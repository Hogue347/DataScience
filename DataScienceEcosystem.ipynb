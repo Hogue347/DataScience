{
 "cells": [
  {
   "cell_type": "markdown",
   "id": "d486d7f5-68e7-4735-a624-4696a9f6d0a8",
   "metadata": {},
   "source": [
    "# Data Science Tools and Ecosystem"
   ]
  },
  {
   "cell_type": "markdown",
   "id": "f062113a-802d-4bc8-9e04-26f79399b4eb",
   "metadata": {},
   "source": [
    "## Introduccion\n",
    "En este cuaderno, se resumen las herramientas y ecosistemas de ciencia de datos."
   ]
  },
  {
   "cell_type": "markdown",
   "id": "e536890e-4e56-4804-8451-61324b260949",
   "metadata": {},
   "source": [
    "**Objetivos**:\n",
    "  1. Desarrolar modelos predictivos precisos utilizando tecnicas de machine learning\n",
    "  2. Analizar grandes conjuntos de datos para identificar pratones y tendencias\n",
    "  3. Crear visualizaciones de datos efectivas para comunicar resultados a los stakeholders\n",
    "  4. Implementar soluciones de ciencia de datos en produccion utilizando tecnologias de deployment\n",
    "  5. Colaborar con equipos interdiciplinarios para integrar la ciencia de datos en la toma de decisiones\n"
   ]
  },
  {
   "cell_type": "markdown",
   "id": "5f640f52-a608-4d73-92e4-5deecdc3079c",
   "metadata": {},
   "source": [
    "Algunos de los lenguajes populares que se utilizan en ciencia de datos son:\n",
    "1. Phyton\n",
    "2. R\n",
    "3. SQL"
   ]
  },
  {
   "cell_type": "markdown",
   "id": "3ccc6e62-3b62-45ef-a0c2-82343b16fdae",
   "metadata": {},
   "source": [
    "Algunas de las bibliotecas comunmente utilizadas por los cientificos de datos incluyen:\n",
    "1. NumPy\n",
    "2. Pandas\n",
    "3. Matplotlip\n"
   ]
  },
  {
   "cell_type": "markdown",
   "id": "5a4e5f86-a913-4f65-89f6-95d7c5c97a06",
   "metadata": {},
   "source": [
    "| Herramientas de ciencia de datos|\n",
    "|---------------------------------|\n",
    "| Jupyther Notebook|\n",
    "| Apache Zeppelin|\n",
    "| Visual Studio Code|"
   ]
  },
  {
   "cell_type": "markdown",
   "id": "f232f9ed-d301-4d1b-afe2-707f06892deb",
   "metadata": {},
   "source": [
    "### A continuacion, se presentan algunos ejemplos de evaluacion de expresiones aritmeticas de Python.\n",
    "\n",
    "\n"
   ]
  },
  {
   "cell_type": "code",
   "execution_count": 1,
   "id": "3eed42a3-9bf4-42e8-800d-33d09932c541",
   "metadata": {},
   "outputs": [
    {
     "data": {
      "text/plain": [
       "17"
      ]
     },
     "execution_count": 1,
     "metadata": {},
     "output_type": "execute_result"
    }
   ],
   "source": [
    "# Esta es una expresion aritmetica simple para multiplicar y luego sumar enteros\n",
    "(3*4)+5"
   ]
  },
  {
   "cell_type": "code",
   "execution_count": 9,
   "id": "0f927d5a-c055-41bd-ada2-d34e73b9e2e9",
   "metadata": {},
   "outputs": [
    {
     "data": {
      "text/plain": [
       "3.3333333333333335"
      ]
     },
     "execution_count": 9,
     "metadata": {},
     "output_type": "execute_result"
    }
   ],
   "source": [
    "# Esto convertira 200 minutos a horas dividiendo por 60\n",
    "200/60"
   ]
  },
  {
   "cell_type": "markdown",
   "id": "4bce9e93-0b93-4bf3-9df1-6e5d5873adda",
   "metadata": {},
   "source": [
    "## Autor\n",
    "Diego Felipe Paredes Peñarrieta"
   ]
  },
  {
   "cell_type": "code",
   "execution_count": null,
   "id": "8bd727f8-64da-4348-b399-ec217d7d5743",
   "metadata": {},
   "outputs": [],
   "source": []
  },
  {
   "cell_type": "code",
   "execution_count": null,
   "id": "a3a510e7-335a-4790-a5e0-9ef6c245fbf7",
   "metadata": {},
   "outputs": [],
   "source": []
  },
  {
   "cell_type": "code",
   "execution_count": null,
   "id": "383aa597-cb6f-4314-9e85-fa18a603cfe0",
   "metadata": {},
   "outputs": [],
   "source": []
  },
  {
   "cell_type": "code",
   "execution_count": null,
   "id": "be607adb-0b88-40cf-a2e2-7334a7e10c7c",
   "metadata": {},
   "outputs": [],
   "source": []
  },
  {
   "cell_type": "code",
   "execution_count": null,
   "id": "82aff1e2-19f1-404d-bffb-4ba1eabdd047",
   "metadata": {},
   "outputs": [],
   "source": []
  },
  {
   "cell_type": "code",
   "execution_count": null,
   "id": "fa9bc5b2-7d9a-4836-9ffc-2d7d3a4c0b66",
   "metadata": {},
   "outputs": [],
   "source": []
  },
  {
   "cell_type": "code",
   "execution_count": null,
   "id": "164e13f5-b26e-4a1e-8d1a-242d90cbb57b",
   "metadata": {},
   "outputs": [],
   "source": []
  },
  {
   "cell_type": "code",
   "execution_count": null,
   "id": "7e214c04-206e-4c22-836c-8e8ee1dcff8f",
   "metadata": {},
   "outputs": [],
   "source": []
  }
 ],
 "metadata": {
  "kernelspec": {
   "display_name": "Python 3 (ipykernel)",
   "language": "python",
   "name": "python3"
  },
  "language_info": {
   "codemirror_mode": {
    "name": "ipython",
    "version": 3
   },
   "file_extension": ".py",
   "mimetype": "text/x-python",
   "name": "python",
   "nbconvert_exporter": "python",
   "pygments_lexer": "ipython3",
   "version": "3.12.7"
  }
 },
 "nbformat": 4,
 "nbformat_minor": 5
}
